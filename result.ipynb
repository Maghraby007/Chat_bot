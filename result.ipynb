{
 "cells": [
  {
   "cell_type": "code",
   "execution_count": 2,
   "id": "d098751a-60ac-48aa-a6c7-f15baf1a7787",
   "metadata": {},
   "outputs": [],
   "source": [
    "import random\n",
    "import json\n",
    "import numpy as np\n",
    "import pickle\n",
    "import nltk\n",
    "from nltk.stem import WordNetLemmatizer\n",
    "from tensorflow.keras.models import load_model"
   ]
  },
  {
   "cell_type": "code",
   "execution_count": 3,
   "id": "feb42dad-7873-4731-9fbb-227395364769",
   "metadata": {},
   "outputs": [],
   "source": [
    "lemmatizer = WordNetLemmatizer()\n",
    "json_file_path= '***********.json file path***********'\n",
    "intents = json.loads(open(json_file_path).read())"
   ]
  },
  {
   "cell_type": "code",
   "execution_count": 4,
   "id": "fc2ddc38-3eec-471d-a748-d89a80793b7c",
   "metadata": {},
   "outputs": [],
   "source": [
    "words_pkl_path=\"words.pkl\"\n",
    "classes_pkl_path='classes.pkl'\n",
    "model_path='chatbot_model.h5'\n",
    "\n",
    "words=pickle.load(open(words_pkl_path, \"rb\"))\n",
    "classes= pickle.load(open(classes_pkl_path, 'rb'))\n",
    "model= load_model(model_path)"
   ]
  },
  {
   "cell_type": "code",
   "execution_count": 5,
   "id": "da1d8355-1ca4-497c-9b07-1e9a5be98cc0",
   "metadata": {},
   "outputs": [],
   "source": [
    "def clean_up_sentence(sentence):\n",
    "    sentence_words= nltk.word_tokenize(sentence)\n",
    "    sentence_words= [lemmatizer.lemmatize(word) for word in sentence_words]\n",
    "    return sentence_words\n",
    "\n",
    "def bag_words(sentence):\n",
    "    sentence_words= clean_up_sentence(sentence)\n",
    "    bag = [0]*len(words)\n",
    "    for w in sentence_words:\n",
    "        for i, word in enumerate(words):\n",
    "            if word==w:\n",
    "                bag[i]=1\n",
    "    return np.array(bag)\n",
    "\n",
    "def predict_class(sentence):\n",
    "    bow = bag_words(sentence)\n",
    "    res = model.predict(np.array([bow]))[0]\n",
    "    error_threshold= 0.25\n",
    "    result= [[i,r] for i,r in enumerate(res) if r>error_threshold]\n",
    "    \n",
    "    result.sort(key=lambda x:x[1], reverse=True)\n",
    "    return_list=[]\n",
    "    for r in result:\n",
    "        return_list.append({'intent': classes[r[0]], 'probability':str(r[1])})\n",
    "    return return_list\n",
    "def get_response(intents_list, intents_json):\n",
    "    tag= intents_list[0]['intent']\n",
    "    list_of_intents = intents_json['intents']\n",
    "    for i in list_of_intents:\n",
    "        if i['tag'] == tag:\n",
    "            result= random.choice(i['responses'])\n",
    "            break\n",
    "    return result"
   ]
  },
  {
   "cell_type": "markdown",
   "id": "31172276-fd89-4a60-8ecc-5f98f781c9cf",
   "metadata": {},
   "source": [
    "# Gui"
   ]
  },
  {
   "cell_type": "code",
   "execution_count": 8,
   "id": "6dffe712-6b17-4001-a25f-c7d2083287d8",
   "metadata": {},
   "outputs": [],
   "source": [
    "import tkinter as tk"
   ]
  },
  {
   "cell_type": "code",
   "execution_count": 9,
   "id": "1796e239-68b4-406d-96bd-dce3e3cdf46c",
   "metadata": {},
   "outputs": [],
   "source": [
    "def send_message():\n",
    "    message = user_input.get()\n",
    "    chat_box.config(state=tk.NORMAL)\n",
    "    chat_box.insert(tk.END, \"You: \" + message + \"\\n\")\n",
    "    chat_box.config(state=tk.DISABLED)\n",
    "    user_input.delete(0, tk.END)  # Clear the input field\n",
    "        # Generate and display bot's response\n",
    "    bot_response = generate_bot_response(message)\n",
    "    chat_box.config(state=tk.NORMAL)\n",
    "    chat_box.insert(tk.END, \"Bot: \" + bot_response + \"\\n\")\n",
    "    chat_box.config(state=tk.DISABLED)\n",
    "\n",
    "    \n",
    "def generate_bot_response(user_message):\n",
    "    ints=predict_class(user_message)\n",
    "    res=get_response(ints,intents)\n",
    "    return res"
   ]
  },
  {
   "cell_type": "code",
   "execution_count": 10,
   "id": "65fd9c29-f782-492c-8b02-521a3a8b8592",
   "metadata": {},
   "outputs": [
    {
     "name": "stdout",
     "output_type": "stream",
     "text": [
      "1/1 [==============================] - 0s 307ms/step\n",
      "1/1 [==============================] - 0s 50ms/step\n",
      "1/1 [==============================] - 0s 30ms/step\n",
      "1/1 [==============================] - 0s 20ms/step\n",
      "1/1 [==============================] - 0s 30ms/step\n",
      "1/1 [==============================] - 0s 30ms/step\n",
      "1/1 [==============================] - 0s 21ms/step\n",
      "1/1 [==============================] - 0s 30ms/step\n"
     ]
    }
   ],
   "source": [
    "# Create the main window\n",
    "root = tk.Tk()\n",
    "root.title(\"Chat Bot\")\n",
    "\n",
    "# Create a frame for the chat history\n",
    "chat_frame = tk.Frame(root)\n",
    "chat_frame.pack(pady=10)\n",
    "\n",
    "# Create a scrollable text widget to display the chat history\n",
    "chat_box = tk.Text(chat_frame, height=20, width=50)\n",
    "chat_box.pack(side=tk.LEFT, fill=tk.BOTH, padx=10, pady=10)\n",
    "chat_box.config(state=tk.DISABLED)  # Disable editing\n",
    "\n",
    "# Create a scrollbar for the chat history\n",
    "scrollbar = tk.Scrollbar(chat_frame, command=chat_box.yview)\n",
    "scrollbar.pack(side=tk.RIGHT, fill=tk.Y)\n",
    "chat_box.config(yscrollcommand=scrollbar.set)\n",
    "\n",
    "# Create a frame for the input field and send button\n",
    "input_frame = tk.Frame(root)\n",
    "input_frame.pack(pady=10)\n",
    "\n",
    "# Create an entry widget for user input\n",
    "user_input = tk.Entry(input_frame, width=40)\n",
    "user_input.pack(side=tk.LEFT, padx=10)\n",
    "\n",
    "# Create a button to send messages\n",
    "send_button = tk.Button(input_frame, text=\"Send\", width=10, command=send_message)\n",
    "send_button.pack(side=tk.RIGHT)\n",
    "\n",
    "# Start the main event loop\n",
    "root.mainloop()\n"
   ]
  },
  {
   "cell_type": "code",
   "execution_count": null,
   "id": "a2772359-4408-4b60-90d8-74bd5c8d90ba",
   "metadata": {},
   "outputs": [],
   "source": []
  }
 ],
 "metadata": {
  "kernelspec": {
   "display_name": "Python 3 (ipykernel)",
   "language": "python",
   "name": "python3"
  },
  "language_info": {
   "codemirror_mode": {
    "name": "ipython",
    "version": 3
   },
   "file_extension": ".py",
   "mimetype": "text/x-python",
   "name": "python",
   "nbconvert_exporter": "python",
   "pygments_lexer": "ipython3",
   "version": "3.9.12"
  }
 },
 "nbformat": 4,
 "nbformat_minor": 5
}
